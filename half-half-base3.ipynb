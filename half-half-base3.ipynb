{
 "cells": [
  {
   "cell_type": "markdown",
   "metadata": {},
   "source": [
    "## half and half\n",
    "- time 10이상부터\n",
    "- FE2 기반 + num_var round 2하고 freq encoding\n",
    "- half1"
   ]
  },
  {
   "cell_type": "code",
   "execution_count": 1,
   "metadata": {
    "_cell_guid": "b1076dfc-b9ad-4769-8c92-a6c4dae69d19",
    "_uuid": "8f2839f25d086af736a60e9eeb907d3b93b6e0e5"
   },
   "outputs": [
    {
     "name": "stdout",
     "output_type": "stream",
     "text": [
      "/kaggle/input/15th-data60sec/num_var_corr.csv\n",
      "/kaggle/input/15th-data60sec/var_list.csv\n",
      "/kaggle/input/15th-data60sec/var_type_list.csv\n",
      "/kaggle/input/15th-data60sec/train_label.csv\n",
      "/kaggle/input/15th-data60sec/test_data.pickle/test_data.pickle\n",
      "/kaggle/input/15th-data60sec/train_data.pickle/train_data.pickle\n"
     ]
    }
   ],
   "source": [
    "import numpy as np # linear algebra\n",
    "import pandas as pd # data processing, CSV file I/O (e.g. pd.read_csv)\n",
    "\n",
    "import warnings\n",
    "warnings.filterwarnings('ignore')\n",
    "import random\n",
    "random.seed(1995)\n",
    "\n",
    "import joblib\n",
    "import os\n",
    "for dirname, _, filenames in os.walk('/kaggle/input'):\n",
    "    for filename in filenames:\n",
    "        print(os.path.join(dirname, filename))\n",
    "\n",
    "from tqdm import tqdm\n",
    "\n",
    "import matplotlib.pyplot as plt\n",
    "import seaborn as sns\n",
    "\n",
    "from sklearn.cluster import MiniBatchKMeans\n",
    "from sklearn.decomposition import PCA\n",
    "from sklearn.preprocessing import StandardScaler\n",
    "\n",
    "from sklearn.metrics import log_loss\n",
    "import lightgbm as lgb\n",
    "from datetime import datetime, timedelta"
   ]
  },
  {
   "cell_type": "code",
   "execution_count": 2,
   "metadata": {
    "_cell_guid": "79c7e3d0-c299-4dcb-8224-4455121ee9b0",
    "_uuid": "d629ff2d2480ee46fbb7e2d37f6b5fab8052498a"
   },
   "outputs": [],
   "source": [
    "train = pd.read_pickle('/kaggle/input/15th-data60sec/train_data.pickle/train_data.pickle')\n",
    "test = pd.read_pickle('/kaggle/input/15th-data60sec/test_data.pickle/test_data.pickle')\n",
    "train_label = train['label']\n",
    "\n",
    "var_list = list(pd.read_csv('/kaggle/input/15th-data60sec/var_list.csv')['var'])"
   ]
  },
  {
   "cell_type": "code",
   "execution_count": 3,
   "metadata": {},
   "outputs": [],
   "source": [
    "var_list = list(reversed(sorted(list(set(var_list) - set(train.columns[train.isna().any()].tolist() + test.columns[test.isna().any()].tolist())))))\n",
    "\n",
    "train = train.loc[(train['time'] >= 10),var_list].reset_index(drop=True)\n",
    "test = test.loc[(test['time'] >= 10),list(set(var_list) - set(['label']))].reset_index(drop=True)"
   ]
  },
  {
   "cell_type": "code",
   "execution_count": 4,
   "metadata": {},
   "outputs": [],
   "source": [
    "all = pd.concat([train,test],axis=0).reset_index(drop=True)\n",
    "all_value_cnt = all.nunique()"
   ]
  },
  {
   "cell_type": "code",
   "execution_count": 5,
   "metadata": {},
   "outputs": [],
   "source": [
    "cat_var = list(all_value_cnt[(all_value_cnt < 11) & (all_value_cnt > 2)].index)\n",
    "bin_var = list(all_value_cnt[all_value_cnt == 2].index)\n",
    "num_var = list(set(var_list) - set(cat_var) - set(bin_var) - set(['label','id','time']))\n",
    "etc_var = ['label','id','time']"
   ]
  },
  {
   "cell_type": "code",
   "execution_count": 6,
   "metadata": {},
   "outputs": [],
   "source": [
    "import_var = ['V3616','V0081','V3324','V3615','V2855','V2859','V1821','V1818','V3098',\n",
    " 'V3461','V4505','V1820','V2861','V2860','V1819','V3432','V2586','V2854',\n",
    " 'V4743','V4824','V3103','V2853','V4495','V2076','V4525']"
   ]
  },
  {
   "cell_type": "code",
   "execution_count": 7,
   "metadata": {},
   "outputs": [
    {
     "name": "stderr",
     "output_type": "stream",
     "text": [
      "100%|██████████| 335/335 [00:30<00:00, 10.84it/s]\n"
     ]
    },
    {
     "data": {
      "text/plain": [
       "(77400, 261)"
      ]
     },
     "execution_count": 7,
     "metadata": {},
     "output_type": "execute_result"
    }
   ],
   "source": [
    "cat_lbl = pd.DataFrame()\n",
    "for a in (bin_var + cat_var):\n",
    "    cat_lbl[a] = pd.factorize(all[a])[0]\n",
    "\n",
    "dup_cols = {}\n",
    "for i, c1 in enumerate(tqdm(cat_lbl.columns)):\n",
    "    for c2 in cat_lbl.columns[i+1:]:\n",
    "        if c2 not in dup_cols and np.all(cat_lbl[c1] == cat_lbl[c2]):\n",
    "            dup_cols[c2] = c1\n",
    "\n",
    "cat_lbl.drop(dup_cols.keys(), axis = 1, inplace = True)\n",
    "cat_lbl.shape"
   ]
  },
  {
   "cell_type": "code",
   "execution_count": 8,
   "metadata": {},
   "outputs": [],
   "source": [
    "num = cat_lbl.nunique()\n",
    "cat_var = list(num[num > 2].index)\n",
    "bin_var = list(num[num == 2].index)\n",
    "\n",
    "var_type_list = pd.DataFrame({'var' : etc_var + cat_var + bin_var + num_var,\n",
    "              'type' : np.concatenate([np.repeat(['etc'],3),\n",
    "                                       np.repeat(['cat'],len(cat_var)),\n",
    "                                       np.repeat(['bin'],len(bin_var)),\n",
    "                                       np.repeat(['num'],len(num_var))])})\n",
    "\n",
    "grp_var = list(var_type_list[var_type_list['type'] == 'cat']['var']);grp_var[:5]\n",
    "\n",
    "all = all[etc_var + num_var + cat_var + bin_var]"
   ]
  },
  {
   "cell_type": "code",
   "execution_count": 9,
   "metadata": {},
   "outputs": [
    {
     "name": "stderr",
     "output_type": "stream",
     "text": [
      "100%|██████████| 38/38 [00:00<00:00, 78.19it/s]\n"
     ]
    }
   ],
   "source": [
    "for col in tqdm(cat_var + [a for a in all.columns if 'concat' in a]):\n",
    "    temp = all.groupby(col)['id'].count().to_dict()\n",
    "    all[col+'_freq'] = all[col].map(temp)\n",
    "    del temp"
   ]
  },
  {
   "cell_type": "code",
   "execution_count": 10,
   "metadata": {},
   "outputs": [],
   "source": [
    "for i,col1 in enumerate(import_var[:5]):\n",
    "    for i2 in range(i+1,5):\n",
    "        all[col1+'*'+import_var[:5][i2]] = all[col1] * all[import_var[:5][i2]]\n",
    "        all[col1+'/'+import_var[:5][i2]] = all[col1] / all[import_var[:5][i2]]\n",
    "        all[col1+'+'+import_var[:5][i2]] = all[col1] + all[import_var[:5][i2]]\n",
    "        all[col1+'-'+import_var[:5][i2]] = all[col1] - all[import_var[:5][i2]]"
   ]
  },
  {
   "cell_type": "code",
   "execution_count": 11,
   "metadata": {},
   "outputs": [
    {
     "name": "stderr",
     "output_type": "stream",
     "text": [
      "100%|██████████| 1984/1984 [08:40<00:00,  3.81it/s]\n"
     ]
    }
   ],
   "source": [
    "num_var_round = round(all[num_var],2)\n",
    "freq_target = tuple(num_var_round.columns[num_var_round.nunique() > 10])\n",
    "for a in tqdm(freq_target):\n",
    "    temp = num_var_round[a].value_counts().to_dict()\n",
    "    num_var_round[a] = num_var_round[a].map(temp)\n",
    "\n",
    "round_freq_var = [a+'_round_freq' for a in num_var_round]\n",
    "\n",
    "num_var_round.columns = round_freq_var\n",
    "del train,test\n",
    "all = pd.concat([all,num_var_round],axis=1)"
   ]
  },
  {
   "cell_type": "code",
   "execution_count": 12,
   "metadata": {},
   "outputs": [],
   "source": [
    "train = all[~all['label'].isnull()].reset_index(drop=True).drop(columns = ['time'])\n",
    "test = all[all['label'].isnull()].reset_index(drop=True).drop(columns = ['time','label'])\n",
    "\n",
    "del all"
   ]
  },
  {
   "cell_type": "code",
   "execution_count": 13,
   "metadata": {},
   "outputs": [],
   "source": [
    "train = train.dropna()\n",
    "test = test.dropna()"
   ]
  },
  {
   "cell_type": "code",
   "execution_count": 14,
   "metadata": {},
   "outputs": [
    {
     "name": "stdout",
     "output_type": "stream",
     "text": [
      "CPU times: user 2min 50s, sys: 4.66 s, total: 2min 55s\n",
      "Wall time: 2min 55s\n"
     ]
    }
   ],
   "source": [
    "%%time\n",
    "\n",
    "train = train.groupby('id').rolling(window = 5).mean().drop(columns = ['id']).reset_index().drop(columns = ['level_1']).dropna().reset_index(drop=True)\n",
    "train_label = train['label']\n",
    "train_id = train['id']\n",
    "\n",
    "test = test.groupby('id').rolling(window = 5).mean().drop(columns = ['id']).reset_index().drop(columns = ['level_1']).dropna().reset_index(drop=True)\n",
    "test_id = test['id']\n",
    "\n",
    "var_model = list(set(train.columns) & set(test.columns) - set(['id']))"
   ]
  },
  {
   "cell_type": "code",
   "execution_count": 15,
   "metadata": {},
   "outputs": [],
   "source": [
    "def tr_vl_split(train_df, num, seed):    \n",
    "    '''\n",
    "    train / validation split 함수\n",
    "    train 에 모든 label이 최소 한번은 등장 & train과 validation의 id는 겹치지 않도록 split함.\n",
    "    \n",
    "    train_df : train 데이터\n",
    "    num : label 당 몇개의 id를 뽑을 것이냐.\n",
    "    seed = random seed\n",
    "    \n",
    "    '''\n",
    "    \n",
    "    np.random.seed(seed)\n",
    "    \n",
    "    valid_id = []\n",
    "    vc = train[['id','label']].drop_duplicates()['label'].value_counts()\n",
    "    temp = list(vc[vc > num].index)\n",
    "    for a in temp:\n",
    "        id_list = list(train_df[train_df['label'] == a]['id'])\n",
    "        valid_id += random.sample(id_list,num)\n",
    "    \n",
    "    train_id = list(set(train_df['id']) - set(valid_id))\n",
    "    \n",
    "    x_tr_ = train[train['id'].isin(train_id)]\n",
    "    y_tr_ = train_label[train['id'].isin(train_id)]\n",
    "\n",
    "    x_vl_ = train[~train['id'].isin(train_id)]\n",
    "    y_vl_ = train_label[~train['id'].isin(train_id)]\n",
    "    \n",
    "    return x_tr_, y_tr_, x_vl_, y_vl_ "
   ]
  },
  {
   "cell_type": "code",
   "execution_count": 16,
   "metadata": {},
   "outputs": [
    {
     "name": "stdout",
     "output_type": "stream",
     "text": [
      "train shape : (30176, 4755)\n",
      "validation shape : (7912, 4755)\n",
      "test shape : (33120, 4754)\n"
     ]
    }
   ],
   "source": [
    "x_tr, y_tr, x_vl, y_vl = tr_vl_split(train, 2, seed = 1995)\n",
    "\n",
    "print('train shape :',x_tr.shape)\n",
    "print('validation shape :',x_vl.shape)\n",
    "print('test shape :', test.shape)\n",
    "\n",
    "# del train"
   ]
  },
  {
   "cell_type": "code",
   "execution_count": 17,
   "metadata": {},
   "outputs": [],
   "source": [
    "# import gc\n",
    "# before_x_vl = list(x_vl['id'].unique())\n",
    "\n",
    "# del x_tr, y_tr, x_vl, y_vl\n",
    "# gc.collect()"
   ]
  },
  {
   "cell_type": "code",
   "execution_count": 18,
   "metadata": {},
   "outputs": [],
   "source": [
    "# def tr_vl_split_2(train_df, num, seed):    \n",
    "#     '''\n",
    "#     train / validation split 함수\n",
    "#     train 에 모든 label이 최소 한번은 등장 & train과 validation의 id는 겹치지 않도록 split함.\n",
    "    \n",
    "#     train_df : train 데이터\n",
    "#     num : label 당 몇개의 id를 뽑을 것이냐.\n",
    "#     seed = random seed\n",
    "    \n",
    "#     '''\n",
    "    \n",
    "#     np.random.seed(seed)\n",
    "    \n",
    "#     valid_id = []\n",
    "#     vc = train_df[['id','label']].drop_duplicates()['label'].value_counts()\n",
    "#     temp = list(vc[vc > num].index)\n",
    "#     for a in temp:\n",
    "#         id_list = list(train[train['label'] == a]['id'])    \n",
    "#         sample = list(random.sample(id_list,3))\n",
    "#         while set(sample) & set(before_x_vl):\n",
    "#             ## 겹치는 게 있으면 true, 없으면 false\n",
    "#             sample = list(random.sample(id_list,3))\n",
    "#         ## 겹치는게 없어서 탈출하면\n",
    "#         valid_id += sample\n",
    "    \n",
    "#     train_id = list(set(train_df['id']) - set(valid_id))\n",
    "    \n",
    "#     x_tr_ = train[train['id'].isin(train_id)]\n",
    "#     y_tr_ = train_label[train['id'].isin(train_id)]\n",
    "\n",
    "#     x_vl_ = train[~train['id'].isin(train_id)]\n",
    "#     y_vl_ = train_label[~train['id'].isin(train_id)]\n",
    "\n",
    "    \n",
    "#     return x_tr_, y_tr_, x_vl_, y_vl_ "
   ]
  },
  {
   "cell_type": "code",
   "execution_count": 19,
   "metadata": {},
   "outputs": [],
   "source": [
    "# x_tr, y_tr, x_vl, y_vl = tr_vl_split_2(train, 2, seed = 1995)\n",
    "\n",
    "# print('train shape :',x_tr.shape)\n",
    "# print('validation shape :',x_vl.shape)\n",
    "\n",
    "# del train"
   ]
  },
  {
   "cell_type": "code",
   "execution_count": 20,
   "metadata": {},
   "outputs": [
    {
     "name": "stdout",
     "output_type": "stream",
     "text": [
      "Training until validation scores don't improve for 100 rounds\n",
      "[100]\ttraining's multi_logloss: 0.0235179\tvalid_1's multi_logloss: 1.19898\n",
      "[200]\ttraining's multi_logloss: 0.00261574\tvalid_1's multi_logloss: 1.13363\n",
      "[300]\ttraining's multi_logloss: 0.00114532\tvalid_1's multi_logloss: 1.12371\n",
      "[400]\ttraining's multi_logloss: 0.000721221\tvalid_1's multi_logloss: 1.12223\n",
      "[500]\ttraining's multi_logloss: 0.000524798\tvalid_1's multi_logloss: 1.12233\n",
      "Early stopping, best iteration is:\n",
      "[450]\ttraining's multi_logloss: 0.00060766\tvalid_1's multi_logloss: 1.12211\n",
      "save model\n",
      "CPU times: user 21h 17min 6s, sys: 1min 15s, total: 21h 18min 21s\n",
      "Wall time: 5h 27min 12s\n"
     ]
    }
   ],
   "source": [
    "%%time\n",
    "\n",
    "lgb_tr = lgb.Dataset(x_tr[var_model], label=y_tr)\n",
    "lgb_vl = lgb.Dataset(x_vl[var_model], label=y_vl)\n",
    "\n",
    "watchlist_1 = [lgb_tr, lgb_vl]\n",
    "watchlist_2 = [lgb_vl, lgb_tr]\n",
    "\n",
    "params = {\n",
    "    \"objective\": \"multiclass\",\n",
    "    \"boosting\": \"gbdt\",\n",
    "    \"num_leaves\": 40,\n",
    "    \"learning_rate\": 0.05,\n",
    "    \"feature_fraction\": 0.85,\n",
    "    \"reg_lambda\": 2,\n",
    "    \"metric\": \"multiclass\",\n",
    "    \"num_class\" : 198\n",
    "}\n",
    "\n",
    "lgb_model = lgb.train(params, train_set=lgb_tr, num_boost_round=1000, valid_sets=watchlist_1, verbose_eval=100, early_stopping_rounds=100)\n",
    "\n",
    "print('save model')\n",
    "joblib.dump(lgb_model, 'lgb.pkl')\n",
    "\n",
    "prediction = pd.DataFrame(lgb_model.predict(test[var_model]))"
   ]
  },
  {
   "cell_type": "code",
   "execution_count": 21,
   "metadata": {},
   "outputs": [
    {
     "data": {
      "text/plain": [
       "<matplotlib.axes._subplots.AxesSubplot at 0x7f8bdf76c5c0>"
      ]
     },
     "execution_count": 21,
     "metadata": {},
     "output_type": "execute_result"
    },
    {
     "data": {
      "image/png": "[encoded data removed]",
      "text/plain": [
       "<Figure size 432x288 with 1 Axes>"
      ]
     },
     "metadata": {
      "needs_background": "light"
     },
     "output_type": "display_data"
    }
   ],
   "source": [
    "lgb.plot_importance(lgb_model,max_num_features = 25)"
   ]
  },
  {
   "cell_type": "code",
   "execution_count": 22,
   "metadata": {},
   "outputs": [],
   "source": [
    "time_now = datetime.now() + timedelta(hours = 9)\n",
    "submission_name = str(time_now)[:16] + '_submission.csv'\n",
    "sub = pd.concat([pd.DataFrame(test_id),prediction],axis=1).groupby('id').mean().reset_index()\n",
    "sub.to_csv(submission_name,index=False)"
   ]
  }
 ],
 "metadata": {
  "kernelspec": {
   "display_name": "Python 3",
   "language": "python",
   "name": "python3"
  },
  "language_info": {
   "codemirror_mode": {
    "name": "ipython",
    "version": 3
   },
   "file_extension": ".py",
   "mimetype": "text/x-python",
   "name": "python",
   "nbconvert_exporter": "python",
   "pygments_lexer": "ipython3",
   "version": "3.6.6"
  }
 },
 "nbformat": 4,
 "nbformat_minor": 1
}
